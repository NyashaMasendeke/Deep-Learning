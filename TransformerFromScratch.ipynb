{
  "nbformat": 4,
  "nbformat_minor": 0,
  "metadata": {
    "colab": {
      "provenance": [],
      "gpuType": "T4",
      "authorship_tag": "ABX9TyMsARMzu2MYx2gaw2aWCMTB",
      "include_colab_link": true
    },
    "kernelspec": {
      "name": "python3",
      "display_name": "Python 3"
    },
    "language_info": {
      "name": "python"
    },
    "accelerator": "GPU"
  },
  "cells": [
    {
      "cell_type": "markdown",
      "metadata": {
        "id": "view-in-github",
        "colab_type": "text"
      },
      "source": [
        "<a href=\"https://colab.research.google.com/github/NyashaMasendeke/Deep-Learning/blob/main/TransformerFromScratch.ipynb\" target=\"_parent\"><img src=\"https://colab.research.google.com/assets/colab-badge.svg\" alt=\"Open In Colab\"/></a>"
      ]
    },
    {
      "cell_type": "code",
      "execution_count": null,
      "metadata": {
        "id": "w7ACgKg5ECzg"
      },
      "outputs": [],
      "source": []
    },
    {
      "cell_type": "markdown",
      "source": [
        "##Input Embedding Layer\n"
      ],
      "metadata": {
        "id": "r7LAgU6vFh9k"
      }
    },
    {
      "cell_type": "code",
      "source": [
        "import torch\n",
        "import torch.nn\n",
        "import math\n",
        "\n",
        "class InputEmbedding(nn.Module):\n",
        "\n",
        "  def __init__(self, d_model: int, vocab_size: int):\n",
        "    super().__init__()\n",
        "    self.d_model = d_model\n",
        "    self.vocab_size = vocab_sizee\n",
        "    self.embedding = nn.Embedding(vocab_size, d_model)\n",
        "\n",
        "  def forward(self, x):\n",
        "    return self.embedding(x) * math.sqrt(self.d_model)\n",
        "\n",
        "\n",
        "\n"
      ],
      "metadata": {
        "id": "al77bDnuFqK_"
      },
      "execution_count": null,
      "outputs": []
    },
    {
      "cell_type": "markdown",
      "source": [
        "##Positional Encoding"
      ],
      "metadata": {
        "id": "v7_hRH7jIc07"
      }
    },
    {
      "cell_type": "code",
      "source": [
        "class PositionalEncoding(nn.Module):\n",
        "\n",
        "  def __init__(self, d_model: int, seq_length: int, dropout:float) -> Name:\n",
        "    super().__init__()\n",
        "    self.d_model = d_model\n",
        "    self.seq_length = seq_length\n",
        "    self.dropout = nn.Dropout(dropout)\n",
        "\n",
        "    ##create a matrix of shape\n",
        "    pa = torh.zeros(seq_len, d_model)\n",
        "    #create a shape of\n",
        "    position = torch.arange(0,seq_len, dtype=torch.float).unsqueeze(1)\n",
        "    div_term = torch.exp(torch.arange(0, d_model, 2), float(+math.log(10000.0)/ d_model))\n",
        "\n",
        "    #multiply by sine to even the positions\n",
        "\n",
        "    pe[]\n",
        "    pe[]\n",
        "\n",
        "    self.registre_buffer('pe', pe)\n",
        "  def forward(self, x):\n",
        "    x = x + (self.pe[:,:])\n",
        "    return self.dropout\n"
      ],
      "metadata": {
        "id": "iFlfi7VKIias"
      },
      "execution_count": null,
      "outputs": []
    }
  ]
}