{
  "nbformat": 4,
  "nbformat_minor": 0,
  "metadata": {
    "colab": {
      "provenance": [],
      "authorship_tag": "ABX9TyPaulXXlB9bdMd7HtG6Zkpe",
      "include_colab_link": true
    },
    "kernelspec": {
      "name": "python3",
      "display_name": "Python 3"
    },
    "language_info": {
      "name": "python"
    }
  },
  "cells": [
    {
      "cell_type": "markdown",
      "metadata": {
        "id": "view-in-github",
        "colab_type": "text"
      },
      "source": [
        "<a href=\"https://colab.research.google.com/github/NyashaMasendeke/Deep-Learning/blob/main/PYTORCH_WORKFLOW.ipynb\" target=\"_parent\"><img src=\"https://colab.research.google.com/assets/colab-badge.svg\" alt=\"Open In Colab\"/></a>"
      ]
    },
    {
      "cell_type": "code",
      "execution_count": null,
      "metadata": {
        "id": "fPN2BNDAw2aR"
      },
      "outputs": [],
      "source": []
    },
    {
      "cell_type": "markdown",
      "source": [
        "###Pytorch Workflow\n",
        ">>>>DATA PREPARE AND  LOASD\n",
        ">>>>BUILD MODEL\n",
        ">>>>FITTING MODEL TO THE DATA OR TRAINING\n",
        ">>>>MAKING PREDICTIONS AND EVALUATE THE MODEL\n",
        ">>>>>HOW TO SAVE AND LOAD THE MODEL\n",
        "\n"
      ],
      "metadata": {
        "id": "QdncP_Y7w4O8"
      }
    },
    {
      "cell_type": "code",
      "source": [],
      "metadata": {
        "id": "UAZFYbN-w82q"
      },
      "execution_count": null,
      "outputs": []
    }
  ]
}