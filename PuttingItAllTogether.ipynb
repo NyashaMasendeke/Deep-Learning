{
  "nbformat": 4,
  "nbformat_minor": 0,
  "metadata": {
    "colab": {
      "provenance": [],
      "authorship_tag": "ABX9TyOOiSQ1QYIch6TCX8cHUC9X",
      "include_colab_link": true
    },
    "kernelspec": {
      "name": "python3",
      "display_name": "Python 3"
    },
    "language_info": {
      "name": "python"
    }
  },
  "cells": [
    {
      "cell_type": "markdown",
      "metadata": {
        "id": "view-in-github",
        "colab_type": "text"
      },
      "source": [
        "<a href=\"https://colab.research.google.com/github/NyashaMasendeke/Deep-Learning/blob/main/PuttingItAllTogether.ipynb\" target=\"_parent\"><img src=\"https://colab.research.google.com/assets/colab-badge.svg\" alt=\"Open In Colab\"/></a>"
      ]
    },
    {
      "cell_type": "code",
      "execution_count": 2,
      "metadata": {
        "colab": {
          "base_uri": "https://localhost:8080/",
          "height": 36
        },
        "id": "2r7qkEChO8S5",
        "outputId": "1c3868c9-1286-4c20-f814-8a6b070ee602"
      },
      "outputs": [
        {
          "output_type": "execute_result",
          "data": {
            "text/plain": [
              "'2.2.1+cu121'"
            ],
            "application/vnd.google.colaboratory.intrinsic+json": {
              "type": "string"
            }
          },
          "metadata": {},
          "execution_count": 2
        }
      ],
      "source": [
        "import torch\n",
        "from torch import nn\n",
        "import matplotlib.pyplot as plt\n",
        "#check pytorch version\n",
        "\n",
        "torch.__version__"
      ]
    },
    {
      "cell_type": "code",
      "source": [
        "#Create device agnostic code\n",
        "device = \"CUDA\" if torch.cuda.is_available() else \"CPU\"\n",
        "print(f\"Usinf device : {device}\")"
      ],
      "metadata": {
        "colab": {
          "base_uri": "https://localhost:8080/"
        },
        "id": "jMiTOnR1Pey-",
        "outputId": "c219ffd7-2f5e-4b1a-936d-e545dfb01b33"
      },
      "execution_count": 3,
      "outputs": [
        {
          "output_type": "stream",
          "name": "stdout",
          "text": [
            "Usinf device : CPU\n"
          ]
        }
      ]
    },
    {
      "cell_type": "code",
      "source": [
        "#Data ..... lets create some data of using linear regression formula\n",
        "#y = mx + c\n",
        "\n",
        "weight = 0.2\n",
        "bias = 0.3\n",
        "\n",
        "#create range values\n",
        " start = 0\n",
        " end = 1\n",
        " step = 0.02\n",
        "\n",
        " #create  X aND y(features and labels)\n",
        "\n",
        " #split data\n",
        "\n",
        " #Plot the data\n",
        "\n",
        "\n"
      ],
      "metadata": {
        "id": "JeHNhveTQII9"
      },
      "execution_count": null,
      "outputs": []
    }
  ]
}