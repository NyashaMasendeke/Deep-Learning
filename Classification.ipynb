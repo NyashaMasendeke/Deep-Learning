{
  "nbformat": 4,
  "nbformat_minor": 0,
  "metadata": {
    "colab": {
      "provenance": [],
      "gpuType": "T4",
      "authorship_tag": "ABX9TyPAXTh5q6qDVVbdlXnGlIah",
      "include_colab_link": true
    },
    "kernelspec": {
      "name": "python3",
      "display_name": "Python 3"
    },
    "language_info": {
      "name": "python"
    },
    "accelerator": "GPU"
  },
  "cells": [
    {
      "cell_type": "markdown",
      "metadata": {
        "id": "view-in-github",
        "colab_type": "text"
      },
      "source": [
        "<a href=\"https://colab.research.google.com/github/NyashaMasendeke/Deep-Learning/blob/main/Classification.ipynb\" target=\"_parent\"><img src=\"https://colab.research.google.com/assets/colab-badge.svg\" alt=\"Open In Colab\"/></a>"
      ]
    },
    {
      "cell_type": "code",
      "execution_count": null,
      "metadata": {
        "id": "Iec8ySCynWc3"
      },
      "outputs": [],
      "source": [
        "#classification is divided into bianry and multiclassification\n"
      ]
    },
    {
      "cell_type": "markdown",
      "source": [
        "#Data"
      ],
      "metadata": {
        "id": "N9UVQUT5J-U4"
      }
    },
    {
      "cell_type": "code",
      "source": [
        "import sklearn\n",
        "from sklearn.datasets import make_circles"
      ],
      "metadata": {
        "id": "b10w0qigKCca"
      },
      "execution_count": 1,
      "outputs": []
    },
    {
      "cell_type": "code",
      "source": [
        "n_samples = 1000\n",
        "\n",
        "#create circles, from make_circles dataset\n",
        "\n",
        "x,y = make_circles(n_samples,\n",
        "                   noise=0.03,\n",
        "                   random_state=42)\n",
        "\n",
        "len(x), len(y)"
      ],
      "metadata": {
        "colab": {
          "base_uri": "https://localhost:8080/"
        },
        "id": "VVfJyN4QKMdD",
        "outputId": "1894d6f2-53c0-4bf0-988a-b97e07deb08c"
      },
      "execution_count": 3,
      "outputs": [
        {
          "output_type": "execute_result",
          "data": {
            "text/plain": [
              "(1000, 1000)"
            ]
          },
          "metadata": {},
          "execution_count": 3
        }
      ]
    },
    {
      "cell_type": "code",
      "source": [
        "print(f\" First 5 samples of x : {x[:5]}\")\n",
        "print(f\" First 5 samples of y : {y[:5]}\")"
      ],
      "metadata": {
        "colab": {
          "base_uri": "https://localhost:8080/"
        },
        "id": "8bOni1fxLGc1",
        "outputId": "788151df-8a4e-40d3-faf1-4269cdd3d2b9"
      },
      "execution_count": 5,
      "outputs": [
        {
          "output_type": "stream",
          "name": "stdout",
          "text": [
            " First 5 samples of x : [[ 0.75424625  0.23148074]\n",
            " [-0.75615888  0.15325888]\n",
            " [-0.81539193  0.17328203]\n",
            " [-0.39373073  0.69288277]\n",
            " [ 0.44220765 -0.89672343]]\n",
            " First 5 samples of y : [1 1 1 1 0]\n"
          ]
        }
      ]
    },
    {
      "cell_type": "code",
      "source": [
        "#creating a dataframe using pandas\n",
        "import pandas as pd\n",
        "circles = pd.DataFrame({})\n",
        "\n"
      ],
      "metadata": {
        "id": "JSowRnTdL3Tr"
      },
      "execution_count": null,
      "outputs": []
    },
    {
      "cell_type": "code",
      "source": [
        "#visulize x 3\n",
        "import matplotlib.pyplot as plt\n",
        "\n",
        "plt.scatter()"
      ],
      "metadata": {
        "id": "oiQA9dBPMteB"
      },
      "execution_count": null,
      "outputs": []
    },
    {
      "cell_type": "code",
      "source": [
        "#check input and output shapes\n",
        "x.shape, y.shape\n",
        "\n",
        "#View first examples of labels and features\n",
        "\n",
        "\n",
        "\n",
        "#Turning our data into tensors\n",
        "import torch\n",
        "torch.__version__\n",
        "X = torch.from_numpy(X).type(torch.float)\n",
        "Y = torch.from_numpy(y).type(torch.float)\n",
        "\n",
        "\n",
        "\n",
        "X[:5], y[:5]\n"
      ],
      "metadata": {
        "id": "u-gVoZs4Nkoo"
      },
      "execution_count": null,
      "outputs": []
    }
  ]
}